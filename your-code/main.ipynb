{
 "cells": [
  {
   "cell_type": "markdown",
   "metadata": {},
   "source": [
    "# Before your start:\n",
    "\n",
    "    Read the README.md file\n",
    "    Comment as much as you can and use the resources (README.md file)\n",
    "    Happy learning!\n",
    "\n",
    "*Notes:* \n",
    "\n",
    "- Solve the questions with python.\n",
    "\n",
    "- Round the final answer to three decimal places."
   ]
  },
  {
   "cell_type": "code",
   "execution_count": 1,
   "metadata": {},
   "outputs": [],
   "source": [
    "from scipy import stats\n",
    "import numpy as np\n",
    "import matplotlib.pyplot as plt\n",
    "import math"
   ]
  },
  {
   "cell_type": "markdown",
   "metadata": {},
   "source": [
    "## Bernoulli's Distribution\n",
    "\n",
    "In a basket containing 100 fruits, there are 60 apples and 40 oranges. \n",
    "\n",
    "A fruit is picked randomly from the basket. \n",
    "\n",
    "1. **What is the probability that the fruit is apple?**\n",
    "1. **What is the probability that it is an orange?**"
   ]
  },
  {
   "cell_type": "code",
   "execution_count": 3,
   "metadata": {},
   "outputs": [
    {
     "name": "stdout",
     "output_type": "stream",
     "text": [
      "Probability of picking an apple: 0.6\n",
      "Probability of picking an orange: 0.4\n"
     ]
    }
   ],
   "source": [
    "\"\"\"\n",
    "Calculate:\n",
    "p = probability that the fruit is an apple \n",
    "q = probability that the fruit is an orange\n",
    "\"\"\"\n",
    "num_apples = 60\n",
    "\n",
    "# Number of oranges\n",
    "num_oranges = 40\n",
    "\n",
    "# Total number of fruits\n",
    "total_fruits = 100\n",
    "\n",
    "# Probability of picking an apple\n",
    "p = num_apples / total_fruits\n",
    "\n",
    "# Probability of picking an orange\n",
    "q = num_oranges / total_fruits\n",
    "\n",
    "print(\"Probability of picking an apple:\", prob_apple)\n",
    "print(\"Probability of picking an orange:\", prob_orange)"
   ]
  },
  {
   "cell_type": "markdown",
   "metadata": {},
   "source": [
    "Now we take a random sample of 20 fruits from the basket. After each fruit is taken, a new fruit of the same type is replaced in the basket. Therefore, every time we are taking 1 fruit from 100 fruits. \n",
    "\n",
    "1. **What is the probability that the first 5 fruits are all apples?**\n",
    "\n",
    "1. **What is the probability that the first 5 fruits are all apples and the next 15 fruits are all oranges?**\n",
    "\n",
    "You can include the `p` and `q` probabilities you previous calculated in your solution."
   ]
  },
  {
   "cell_type": "code",
   "execution_count": 4,
   "metadata": {},
   "outputs": [
    {
     "name": "stdout",
     "output_type": "stream",
     "text": [
      "Probability that the first 5 fruits are all apples: 0.07775999999999998\n",
      "Probability that the first 5 fruits are all apples and the next 15 fruits are all oranges: 8.349416423424006e-08\n"
     ]
    }
   ],
   "source": [
    "# What is the probability that the first 5 fruits are all apples?\n",
    "# Probability that the fruit is an apple\n",
    "p = 0.6\n",
    "\n",
    "# Probability that the fruit is an orange\n",
    "q = 0.4\n",
    "\n",
    "# Probability that the first 5 fruits are all apples\n",
    "prob_5_apples = p ** 5\n",
    "\n",
    "# Probability that the first 5 fruits are all apples and the next 15 fruits are all oranges\n",
    "prob_5_apples_15_oranges = prob_5_apples * (q ** 15)\n",
    "\n",
    "print(\"Probability that the first 5 fruits are all apples:\", prob_5_apples)\n",
    "print(\"Probability that the first 5 fruits are all apples and the next 15 fruits are all oranges:\", prob_5_apples_15_oranges)\n"
   ]
  },
  {
   "cell_type": "markdown",
   "metadata": {},
   "source": [
    "## Binomial Distribution\n",
    "\n",
    "Similar to the above problem, this time again we randomly sample 20 fruits.\n",
    "\n",
    "**What is the probability that this time the sample contains 5 apples and 15 oranges?**\n",
    "\n",
    "Please note that this time the order of the fruits being picked does not matter."
   ]
  },
  {
   "cell_type": "code",
   "execution_count": 5,
   "metadata": {},
   "outputs": [
    {
     "name": "stdout",
     "output_type": "stream",
     "text": [
      "Probability of getting 5 apples and 15 oranges: 0.0012944935222876579\n"
     ]
    }
   ],
   "source": [
    "# your solution here\n",
    "# Total number of fruits picked\n",
    "n = 20\n",
    "\n",
    "# Number of apples\n",
    "k = 5\n",
    "\n",
    "# Probability that the fruit is an apple\n",
    "p = 0.6\n",
    "\n",
    "# Probability that the fruit is an orange\n",
    "q = 1 - p\n",
    "\n",
    "\n",
    "binomial_coefficient = math.comb(n, k)\n",
    "\n",
    "# Probability of getting exactly k successes (apples)\n",
    "prob_5_apples = binomial_coefficient * (p ** k) * (q ** (n - k))\n",
    "\n",
    "print(\"Probability of getting 5 apples and 15 oranges:\", prob_5_apples)"
   ]
  },
  {
   "cell_type": "code",
   "execution_count": null,
   "metadata": {},
   "outputs": [],
   "source": [
    "# your solution here"
   ]
  },
  {
   "cell_type": "markdown",
   "metadata": {},
   "source": [
    "In the lesson we also discussed CDF (cumulative distribution function). In the context of the above problem, **what is the probability that less than 5 fruits picked are apples?**\n",
    "\n",
    "Write the formula and calculate the probability below."
   ]
  },
  {
   "cell_type": "code",
   "execution_count": 6,
   "metadata": {},
   "outputs": [
    {
     "name": "stdout",
     "output_type": "stream",
     "text": [
      "Probability that less than 5 fruits picked are apples: 0.00031703112116863\n"
     ]
    }
   ],
   "source": [
    "# your code here\n",
    "# Total number of fruits picked\n",
    "n = 20\n",
    "\n",
    "# Probability that the fruit is an apple\n",
    "p = 0.6\n",
    "\n",
    "# Probability that the fruit is an orange\n",
    "q = 1 - p\n",
    "\n",
    "# Initialize the cumulative probability\n",
    "cumulative_prob = 0\n",
    "\n",
    "\n",
    "for k in range(5):\n",
    "   \n",
    "    binomial_coefficient = math.comb(n, k)\n",
    "    \n",
    "    prob_k_apples = binomial_coefficient * (p ** k) * (q ** (n - k))\n",
    "   \n",
    "    cumulative_prob += prob_k_apples\n",
    "\n",
    "print(\"Probability that less than 5 fruits picked are apples:\", cumulative_prob)"
   ]
  },
  {
   "cell_type": "markdown",
   "metadata": {},
   "source": [
    "**Plot the PDF (probability distributiom function) for the above binomial distribution.**\n",
    "\n",
    "*Hint: The range of x in a binomial distribution is from `0` to `n`.*"
   ]
  },
  {
   "cell_type": "code",
   "execution_count": 7,
   "metadata": {},
   "outputs": [
    {
     "data": {
      "image/png": "[encoded data removed]",
      "text/plain": [
       "<Figure size 640x480 with 1 Axes>"
      ]
     },
     "metadata": {},
     "output_type": "display_data"
    }
   ],
   "source": [
    "# your code here\n",
    "# Please label the axes and give a title to the plot \n",
    "X_values = []\n",
    "probabilities = []\n",
    "\n",
    "\n",
    "for k in range(n + 1):\n",
    "  \n",
    "    binomial_coefficient = math.comb(n, k)\n",
    "    \n",
    "    prob_k_apples = binomial_coefficient * (p ** k) * (q ** (n - k))\n",
    "   \n",
    "    X_values.append(k)\n",
    "    probabilities.append(prob_k_apples)\n",
    "\n",
    "plt.bar(X_values, probabilities, color='blue', alpha=0.5)\n",
    "plt.title('Binomial Distribution - Probability Distribution Function')\n",
    "plt.xlabel('Number of Apples')\n",
    "plt.ylabel('Probability')\n",
    "plt.xticks(np.arange(0, n+1, step=1))\n",
    "plt.grid(axis='y', linestyle='--', alpha=0.7)\n",
    "plt.show()"
   ]
  },
  {
   "cell_type": "markdown",
   "metadata": {},
   "source": [
    "## Poisson Distribution\n",
    "\n",
    "In this challenge you are required to use the Math library in python to solve the problems.\n",
    "\n",
    "In the UEFA champions league tournament, the average number of goals scored in a match is 2.3. \n",
    "\n",
    "**What is the probability that the number of goals scored in a match is 5?**\n",
    "\n",
    "*Hint: Use the exp() in the math library*\n",
    "\n",
    "And to calculate the factorial, you can use the following code:\n",
    "\n",
    "```python\n",
    "import math\n",
    "math.factorial(n) # n is the number you want to find the factorial of\n",
    "```"
   ]
  },
  {
   "cell_type": "code",
   "execution_count": 8,
   "metadata": {},
   "outputs": [
    {
     "name": "stdout",
     "output_type": "stream",
     "text": [
      "Probability that the number of goals scored in a match is 5: 0.0537750255819468\n"
     ]
    }
   ],
   "source": [
    "# your code here \n",
    "lambda_value = 2.3\n",
    "\n",
    "k = 5\n",
    "\n",
    "probability = (math.exp(-lambda_value) * (lambda_value ** k)) / math.factorial(k)\n",
    "\n",
    "print(\"Probability that the number of goals scored in a match is 5:\", probability)"
   ]
  },
  {
   "cell_type": "markdown",
   "metadata": {},
   "source": [
    "**Draw a poisson probability distribution plot for the number of goals to be between 0 to 10.**"
   ]
  },
  {
   "cell_type": "code",
   "execution_count": 9,
   "metadata": {},
   "outputs": [
    {
     "data": {
      "image/png": "[encoded data removed]",
      "text/plain": [
       "<Figure size 640x480 with 1 Axes>"
      ]
     },
     "metadata": {},
     "output_type": "display_data"
    }
   ],
   "source": [
    "# your code here\n",
    "# Please label the axes and give a title to the plot \n",
    "lambda_value = 2.3\n",
    "\n",
    "k_values = np.arange(0, 11)\n",
    "\n",
    "probabilities = [(math.exp(-lambda_value) * (lambda_value ** k)) / math.factorial(k) for k in k_values]\n",
    "\n",
    "\n",
    "plt.bar(k_values, probabilities, color='blue', alpha=0.5)\n",
    "plt.title('Poisson Probability Distribution for Number of Goals')\n",
    "plt.xlabel('Number of Goals')\n",
    "plt.ylabel('Probability')\n",
    "plt.xticks(k_values)\n",
    "plt.grid(axis='y', linestyle='--', alpha=0.7)\n",
    "plt.show()"
   ]
  },
  {
   "cell_type": "code",
   "execution_count": null,
   "metadata": {},
   "outputs": [],
   "source": []
  }
 ],
 "metadata": {
  "kernelspec": {
   "display_name": "Python 3 (ipykernel)",
   "language": "python",
   "name": "python3"
  },
  "language_info": {
   "codemirror_mode": {
    "name": "ipython",
    "version": 3
   },
   "file_extension": ".py",
   "mimetype": "text/x-python",
   "name": "python",
   "nbconvert_exporter": "python",
   "pygments_lexer": "ipython3",
   "version": "3.11.7"
  },
  "vscode": {
   "interpreter": {
    "hash": "aee8b7b246df8f9039afb4144a1f6fd8d2ca17a180786b69acc140d282b71a49"
   }
  }
 },
 "nbformat": 4,
 "nbformat_minor": 2
}
