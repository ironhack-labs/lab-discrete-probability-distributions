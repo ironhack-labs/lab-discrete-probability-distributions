{
 "cells": [
  {
   "cell_type": "markdown",
   "metadata": {},
   "source": [
    "# Before your start:\n",
    "\n",
    "    Read the README.md file\n",
    "    Comment as much as you can and use the resources (README.md file)\n",
    "    Happy learning!\n",
    "\n",
    "*Notes:* \n",
    "\n",
    "- Solve the questions with python.\n",
    "\n",
    "- Round the final answer to three decimal places."
   ]
  },
  {
   "cell_type": "code",
   "execution_count": 6,
   "metadata": {},
   "outputs": [],
   "source": [
    "from scipy import stats\n",
    "from scipy.stats import bernoulli\n",
    "import numpy as np\n",
    "import matplotlib.pyplot as plt\n",
    "import math"
   ]
  },
  {
   "cell_type": "markdown",
   "metadata": {},
   "source": [
    "## Bernoulli's Distribution\n",
    "\n",
    "In a basket containing 100 fruits, there are 60 apples and 40 oranges. \n",
    "\n",
    "A fruit is picked randomly from the basket. \n",
    "\n",
    "1. **What is the probability that the fruit is apple?**\n",
    "1. **What is the probability that it is an orange?**"
   ]
  },
  {
   "cell_type": "code",
   "execution_count": 13,
   "metadata": {},
   "outputs": [
    {
     "name": "stdout",
     "output_type": "stream",
     "text": [
      "0.6\n",
      "0.4\n"
     ]
    }
   ],
   "source": [
    "\"\"\"\n",
    "Calculate:\n",
    "p = probability that the fruit is an apple \n",
    "q = probability that the fruit is an orange\n",
    "\"\"\"\n",
    "n=100 #total number of fruits\n",
    "p = 60/100 #prob of the fruit being an apple\n",
    "print(p)\n",
    "q = 40/100 #prob of the fruit being an orange \n",
    "print(q)"
   ]
  },
  {
   "cell_type": "markdown",
   "metadata": {},
   "source": [
    "Now we take a random sample of 20 fruits from the basket. After each fruit is taken, a new fruit of the same type is replaced in the basket. Therefore, every time we are taking 1 fruit from 100 fruits. \n",
    "\n",
    "1. **What is the probability that the first 5 fruits are all apples?**\n",
    "\n",
    "1. **What is the probability that the first 5 fruits are all apples and the next 15 fruits are all oranges?**\n",
    "\n",
    "You can include the `p` and `q` probabilities you previous calculated in your solution."
   ]
  },
  {
   "cell_type": "code",
   "execution_count": 18,
   "metadata": {},
   "outputs": [
    {
     "name": "stdout",
     "output_type": "stream",
     "text": [
      "The probability of the first five fruits to be apple is 0.07775999999999998\n",
      "The probability of the first five fruits being apples and the next fifteen fruits being oranges is 8.349416423424006e-08\n"
     ]
    }
   ],
   "source": [
    "# What is the probability that the first 5 fruits are all apples?\n",
    "k=5\n",
    "prob = p**5 \n",
    "print('The probability of the first five fruits to be apple is', prob)\n",
    "\n",
    "\n",
    "#prob of taking an orange given that the last one was an apple) = probability of taking an apple | \n",
    "prob_apples_then_oranges = (p ** 5) * (q ** 15)\n",
    "print(f\"The probability of the first five fruits being apples and the next fifteen fruits being oranges is {prob_apples_then_oranges}\")\n"
   ]
  },
  {
   "cell_type": "markdown",
   "metadata": {},
   "source": [
    "## Binomial Distribution\n",
    "\n",
    "Similar to the above problem, this time again we randomly sample 20 fruits.\n",
    "\n",
    "**What is the probability that this time the sample contains 5 apples and 15 oranges?**\n",
    "\n",
    "Please note that this time the order of the fruits being picked does not matter."
   ]
  },
  {
   "cell_type": "code",
   "execution_count": 2,
   "metadata": {},
   "outputs": [],
   "source": [
    "# your solution here\n",
    "from scipy.stats import binom"
   ]
  },
  {
   "cell_type": "code",
   "execution_count": 7,
   "metadata": {},
   "outputs": [
    {
     "name": "stdout",
     "output_type": "stream",
     "text": [
      "The probability of a sample that contains 5 apples and 15 oranges is 1.675713479244708e-06\n"
     ]
    }
   ],
   "source": [
    "# your solution here\n",
    "n_total=100\n",
    "n_sample= 20\n",
    "p_apples = 0.6\n",
    "k_apples = 5\n",
    "k_oranges = 15\n",
    "\n",
    "prob_binopmf= binom.pmf(k_apples,n_sample,p_apples) * binom.pmf(k_oranges,n_sample,1- p_apples)\n",
    "print(f'The probability of a sample that contains 5 apples and 15 oranges is {prob_binopmf}')"
   ]
  },
  {
   "cell_type": "markdown",
   "metadata": {},
   "source": [
    "In the lesson we also discussed CDF (cumulative distribution function). In the context of the above problem, **what is the probability that less than 5 fruits picked are apples?**\n",
    "\n",
    "Write the formula and calculate the probability below."
   ]
  },
  {
   "cell_type": "code",
   "execution_count": 4,
   "metadata": {},
   "outputs": [
    {
     "name": "stdout",
     "output_type": "stream",
     "text": [
      "1.0\n",
      "The probability of picking less than 5 apples is 1.0\n"
     ]
    }
   ],
   "source": [
    "# your code here\n",
    "total_fruits= 100\n",
    "n_apples = 4\n",
    "k_cdf = total_fruits - n_apples\n",
    "papples = 0.6\n",
    "prob_binomcdf= binom.cdf(k_cdf,n_apples,papples)\n",
    "print(prob_binomcdf)\n",
    "print('The probability of picking less than 5 apples is', prob_binomcdf)"
   ]
  },
  {
   "cell_type": "markdown",
   "metadata": {},
   "source": [
    "**Plot the PDF (probability distributiom function) for the above binomial distribution.**\n",
    "\n",
    "*Hint: The range of x in a binomial distribution is from `0` to `n`.*"
   ]
  },
  {
   "cell_type": "code",
   "execution_count": 9,
   "metadata": {},
   "outputs": [
    {
     "data": {
      "image/png": "[encoded data removed]",
      "text/plain": [
       "<Figure size 800x600 with 1 Axes>"
      ]
     },
     "metadata": {},
     "output_type": "display_data"
    }
   ],
   "source": [
    "# your code here\n",
    "# Please label the axes and give a title to the plot \n",
    "\n",
    "#import libraries \n",
    "import numpy as np\n",
    "import matplotlib.pyplot as plt\n",
    "from scipy.stats import binom \n",
    "\n",
    "#data \n",
    "n_sample = 20\n",
    "p_apples = 0.6 \n",
    "\n",
    "x_values = np.arange(0, n_sample +1)\n",
    "\n",
    "#calculate omf \n",
    "pmf_values = binom.pmf(x_values,n_sample,p_apples)\n",
    "\n",
    "#plot\n",
    "plt.figure(figsize=(8,6))\n",
    "plt.bar(x_values, pmf_values, alpha=0.7)\n",
    "plt.title('Probability distribution function of the binomal distribution')\n",
    "plt.xlabel('Number of apples')\n",
    "plt.ylabel('Probability')\n",
    "plt.show()"
   ]
  },
  {
   "cell_type": "markdown",
   "metadata": {},
   "source": [
    "## Poisson Distribution\n",
    "\n",
    "In this challenge you are required to use the Math library in python to solve the problems.\n",
    "\n",
    "In the UEFA champions league tournament, the average number of goals scored in a match is 2.3. \n",
    "\n",
    "**What is the probability that the number of goals scored in a match is 5?**\n",
    "\n",
    "*Hint: Use the exp() in the math library*\n",
    "\n",
    "And to calculate the factorial, you can use the following code:\n",
    "\n",
    "```python\n",
    "import math\n",
    "math.factorial(n) # n is the number you want to find the factorial of\n",
    "```"
   ]
  },
  {
   "cell_type": "code",
   "execution_count": 7,
   "metadata": {},
   "outputs": [],
   "source": [
    "# your code here \n",
    "import math \n",
    "from scipy.stats import poisson\n",
    "import numpy as np\n"
   ]
  },
  {
   "cell_type": "code",
   "execution_count": 4,
   "metadata": {},
   "outputs": [
    {
     "name": "stdout",
     "output_type": "stream",
     "text": [
      "The probability that the number of goals is equal to 5 is 0.053775025581946814\n",
      "The probability that the number of goals is equal to 5 is 0.0537750255819468\n"
     ]
    }
   ],
   "source": [
    "average_goal = 2.3\n",
    "goals= 5\n",
    "#using poisson python calculations\n",
    "prob_5 = poisson.pmf(5,average_goal)\n",
    "print('The probability that the number of goals is equal to 5 is',prob_5)\n",
    "\n",
    "#using factorial\n",
    "prob_poisson = (math.exp(-average_goal)*(average_goal**goals))/ math.factorial(goals)\n",
    "print('The probability that the number of goals is equal to 5 is', prob_poisson)\n"
   ]
  },
  {
   "cell_type": "markdown",
   "metadata": {},
   "source": [
    "**Draw a poisson probability distribution plot for the number of goals to be between 0 to 10.**"
   ]
  },
  {
   "cell_type": "code",
   "execution_count": 10,
   "metadata": {},
   "outputs": [
    {
     "data": {
      "image/png": "[encoded data removed]",
      "text/plain": [
       "<Figure size 640x480 with 1 Axes>"
      ]
     },
     "metadata": {},
     "output_type": "display_data"
    }
   ],
   "source": [
    "# your code here\n",
    "#prob from 0-10\n",
    "k_values = np.arange(0,10)\n",
    "\n",
    "#calculate the prob for each number of arrival \n",
    "pmf_values = poisson.pmf(k_values,average_goal)\n",
    "\n",
    "# Please label the axes and give a title to the plot \n",
    "#bar plot\n",
    "plt.bar(k_values,pmf_values)\n",
    "plt.title('Poisson distribution - Goals at UEFA league tournament')\n",
    "plt.xlabel('Number of Goals')\n",
    "plt.ylabel('Probability')\n",
    "plt.show()\n",
    "\n"
   ]
  }
 ],
 "metadata": {
  "kernelspec": {
   "display_name": "Python 3 (ipykernel)",
   "language": "python",
   "name": "python3"
  },
  "language_info": {
   "codemirror_mode": {
    "name": "ipython",
    "version": 3
   },
   "file_extension": ".py",
   "mimetype": "text/x-python",
   "name": "python",
   "nbconvert_exporter": "python",
   "pygments_lexer": "ipython3",
   "version": "3.11.7"
  },
  "vscode": {
   "interpreter": {
    "hash": "aee8b7b246df8f9039afb4144a1f6fd8d2ca17a180786b69acc140d282b71a49"
   }
  }
 },
 "nbformat": 4,
 "nbformat_minor": 2
}
