{
 "cells": [
  {
   "cell_type": "markdown",
   "metadata": {},
   "source": [
    "# Before your start:\n",
    "\n",
    "    Read the README.md file\n",
    "    Comment as much as you can and use the resources (README.md file)\n",
    "    Happy learning!\n",
    "\n",
    "*Notes:* \n",
    "\n",
    "- Solve the questions with python.\n",
    "\n",
    "- Round the final answer to three decimal places."
   ]
  },
  {
   "cell_type": "code",
   "execution_count": 3,
   "metadata": {},
   "outputs": [],
   "source": [
    "from scipy import stats\n",
    "import numpy as np\n",
    "import matplotlib.pyplot as plt\n",
    "import math"
   ]
  },
  {
   "cell_type": "markdown",
   "metadata": {},
   "source": [
    "## Bernoulli's Distribution\n",
    "\n",
    "In a basket containing 100 fruits, there are 60 apples and 40 oranges. \n",
    "\n",
    "A fruit is picked randomly from the basket. \n",
    "\n",
    "1. **What is the probability that the fruit is apple?**\n",
    "1. **What is the probability that it is an orange?**"
   ]
  },
  {
   "cell_type": "code",
   "execution_count": 4,
   "metadata": {},
   "outputs": [
    {
     "name": "stdout",
     "output_type": "stream",
     "text": [
      "Probability of picking an apple: 0.6\n",
      "Probability of picking an orange: 0.4\n"
     ]
    }
   ],
   "source": [
    "\"\"\"\n",
    "Calculate:\n",
    "p = probability that the fruit is an apple \n",
    "q = probability that the fruit is an orange\n",
    "\"\"\"\n",
    "total_fruits = 100\n",
    "apples = 60\n",
    "oranges = 40\n",
    "p = apples / total_fruits\n",
    "q = oranges / total_fruits\n",
    "print(f\"Probability of picking an apple: {p}\")\n",
    "print(f\"Probability of picking an orange: {q}\")"
   ]
  },
  {
   "cell_type": "markdown",
   "metadata": {},
   "source": [
    "Now we take a random sample of 20 fruits from the basket. After each fruit is taken, a new fruit of the same type is replaced in the basket. Therefore, every time we are taking 1 fruit from 100 fruits. \n",
    "\n",
    "1. **What is the probability that the first 5 fruits are all apples?**\n",
    "\n",
    "1. **What is the probability that the first 5 fruits are all apples and the next 15 fruits are all oranges?**\n",
    "\n",
    "You can include the `p` and `q` probabilities you previous calculated in your solution."
   ]
  },
  {
   "cell_type": "code",
   "execution_count": 5,
   "metadata": {},
   "outputs": [
    {
     "name": "stdout",
     "output_type": "stream",
     "text": [
      "Probability of picking exacty 5 apples: 0.07775999999999998\n",
      "Probability of picking exacty 5 apples first and 15 oranges: 0.0000001\n"
     ]
    }
   ],
   "source": [
    "# What is the probability that the first 5 fruits are all apples?**\n",
    "\n",
    "k = 5\n",
    "p_apples = apples / total_fruits\n",
    "p = p_apples ** k\n",
    "\n",
    "print(f\"Probability of picking exacty {k} apples: {p}\")\n",
    "\n",
    "# What is the probability that the first 5 fruits are all apples and the next 15 fruits are all oranges?\n",
    "\n",
    "k_1 = 5\n",
    "k_2 = 15\n",
    "p_apples = apples / total_fruits\n",
    "p_oranges = oranges / total_fruits\n",
    "\n",
    "p = p_apples ** k_1 * p_oranges ** k_2\n",
    "print(f\"Probability of picking exacty {k_1} apples first and {k_2} oranges: {p:.7f}\")\n"
   ]
  },
  {
   "cell_type": "markdown",
   "metadata": {},
   "source": [
    "## Binomial Distribution\n",
    "\n",
    "Similar to the above problem, this time again we randomly sample 20 fruits.\n",
    "\n",
    "**What is the probability that this time the sample contains 5 apples and 15 oranges?**\n",
    "\n",
    "Please note that this time the order of the fruits being picked does not matter."
   ]
  },
  {
   "cell_type": "markdown",
   "metadata": {},
   "source": []
  },
  {
   "cell_type": "code",
   "execution_count": 6,
   "metadata": {},
   "outputs": [
    {
     "name": "stdout",
     "output_type": "stream",
     "text": [
      "Probability of picking exactly 5 apples: 0.0013\n",
      "Probability of picking exactly 15 oranges: 0.0013\n"
     ]
    }
   ],
   "source": [
    "n = 20  # Number of fruits\n",
    "p = 0.6  # Probability of apple\n",
    "\n",
    "k_1 = 5  # Number of apples the user hopes to get in the sample\n",
    "prob_apples = stats.binom.pmf(k_1, n, p)  # Calculate the probability with binomial distribution\n",
    "print(f\"Probability of picking exactly {k_1} apples: {prob_apples:.4f}\")\n",
    "\n",
    "n = 20  # Number of fruits\n",
    "q = 0.4  # Probability of orange\n",
    "\n",
    "k_2 = 15  # Number of oranges the user hopes to get in the sample\n",
    "prob_oranges = stats.binom.pmf(k_2, n, q)  # Calculate the probability with binomial distribution\n",
    "print(f\"Probability of picking exactly {k_2} oranges: {prob_oranges:.4f}\")\n",
    "\n",
    "\n",
    "\n",
    "\n"
   ]
  },
  {
   "cell_type": "markdown",
   "metadata": {},
   "source": [
    "In the lesson we also discussed CDF (cumulative distribution function). In the context of the above problem, **what is the probability that less than 5 fruits picked are apples?**\n",
    "\n",
    "Write the formula and calculate the probability below."
   ]
  },
  {
   "cell_type": "code",
   "execution_count": 7,
   "metadata": {},
   "outputs": [
    {
     "name": "stdout",
     "output_type": "stream",
     "text": [
      "Cumulative Probability of picking less than 5 apples: 0.000317\n"
     ]
    }
   ],
   "source": [
    "# Cumulative probability = probability of k = 1,2,3 and 4\n",
    "\n",
    "n = 20  # Number of fruits\n",
    "p = 0.6  # Probability of apple\n",
    "k_max = 4\n",
    "\n",
    "# k = [1,2,3,4]  # Number of apples the user hopes to get in the sample\n",
    "# we use a while loop\n",
    "p_cumulative = 0\n",
    "k=0\n",
    "while k <= k_max:\n",
    "    p_k = stats.binom.pmf(k, n, p)  # Calculate the probability with binomial distribution\n",
    "    p_cumulative += p_k\n",
    "    k +=1\n",
    "\n",
    "print(f\"Cumulative Probability of picking less than {k_max + 1} apples: {p_cumulative:.6f}\")"
   ]
  },
  {
   "cell_type": "markdown",
   "metadata": {},
   "source": [
    "**Plot the PDF (probability distributiom function) for the above binomial distribution.**\n",
    "\n",
    "*Hint: The range of x in a binomial distribution is from `0` to `n`.*"
   ]
  },
  {
   "cell_type": "code",
   "execution_count": 9,
   "metadata": {},
   "outputs": [
    {
     "data": {
      "image/png": "[encoded data removed]",
      "text/plain": [
       "<Figure size 1000x600 with 1 Axes>"
      ]
     },
     "metadata": {},
     "output_type": "display_data"
    }
   ],
   "source": [
    "import numpy as np\n",
    "import matplotlib.pyplot as plt\n",
    "from scipy.stats import binom\n",
    "\n",
    "# Parameters for the binomial distribution\n",
    "n = 20  # number of trials (fruits picked)\n",
    "p = 0.6  # probability of picking an apple\n",
    "\n",
    "# Possible number of successes (number of apples picked)\n",
    "k = np.arange(0, n + 1)\n",
    "\n",
    "# Calculate the PMF (probability mass function)\n",
    "pmf = binom.pmf(k, n, p)\n",
    "\n",
    "# Plotting the PDF\n",
    "plt.figure(figsize=(10, 6))\n",
    "plt.bar(k, pmf,  color='blue', width=1, edgecolor='black')\n",
    "plt.title('Probability Distribution Function (PDF) of Apples in a Sample of 20 Fruits')\n",
    "plt.xlabel('Number of Apples Picked')\n",
    "plt.ylabel('Probability')\n",
    "plt.xticks(k)  # Show each integer on x-axis\n",
    "plt.show()\n"
   ]
  },
  {
   "cell_type": "markdown",
   "metadata": {},
   "source": [
    "## Poisson Distribution\n",
    "\n",
    "In this challenge you are required to use the Math library in python to solve the problems.\n",
    "\n",
    "In the UEFA champions league tournament, the average number of goals scored in a match is 2.3. \n",
    "\n",
    "**What is the probability that the number of goals scored in a match is 5?**\n",
    "\n",
    "*Hint: Use the exp() in the math library*\n",
    "\n",
    "And to calculate the factorial, you can use the following code:\n",
    "\n",
    "```python\n",
    "import math\n",
    "math.factorial(n) # n is the number you want to find the factorial of\n",
    "```"
   ]
  },
  {
   "cell_type": "code",
   "execution_count": 10,
   "metadata": {},
   "outputs": [
    {
     "name": "stdout",
     "output_type": "stream",
     "text": [
      "Probability of scoring exactly 5 goals: 0.0538\n"
     ]
    }
   ],
   "source": [
    "import math \n",
    "\n",
    "k=5\n",
    "lambda_goals =2.3\n",
    "p = (lambda_goals ** k * math.exp(-lambda_goals)) / math.factorial(k)\n",
    "print(f\"Probability of scoring exactly {k} goals: {p:.4f}\")\n"
   ]
  },
  {
   "cell_type": "markdown",
   "metadata": {},
   "source": [
    "**Draw a poisson probability distribution plot for the number of goals to be between 0 to 10.**"
   ]
  },
  {
   "cell_type": "code",
   "execution_count": 12,
   "metadata": {},
   "outputs": [
    {
     "data": {
      "image/png": "[encoded data removed]",
      "text/plain": [
       "<Figure size 640x480 with 1 Axes>"
      ]
     },
     "metadata": {},
     "output_type": "display_data"
    }
   ],
   "source": [
    "# Visualizing the distribution of customer arrivals\n",
    "# Generate a range of possible customer arrival numbers\n",
    "\n",
    "k_values = np.arange(0, 11)\n",
    "# Calculate probability for each number of arrivals\n",
    "#pmf_values = stats.poisson.pmf(k_values, lambda_rate)\n",
    "pmf_values = []\n",
    "pmf_values = stats.poisson.pmf(k_values, lambda_goals)\n",
    "\n",
    "\n",
    "# Create a bar plot\n",
    "plt.bar(k_values, pmf_values)\n",
    "plt.title(\"Poisson Distribution - Number of goals scored\")\n",
    "plt.xlabel(\"Number of Goals Scored\")\n",
    "plt.ylabel(\"Probability\")\n",
    "plt.show()"
   ]
  },
  {
   "cell_type": "code",
   "execution_count": null,
   "metadata": {},
   "outputs": [],
   "source": []
  }
 ],
 "metadata": {
  "kernelspec": {
   "display_name": "Python 3 (ipykernel)",
   "language": "python",
   "name": "python3"
  },
  "language_info": {
   "codemirror_mode": {
    "name": "ipython",
    "version": 3
   },
   "file_extension": ".py",
   "mimetype": "text/x-python",
   "name": "python",
   "nbconvert_exporter": "python",
   "pygments_lexer": "ipython3",
   "version": "3.12.4"
  },
  "vscode": {
   "interpreter": {
    "hash": "aee8b7b246df8f9039afb4144a1f6fd8d2ca17a180786b69acc140d282b71a49"
   }
  }
 },
 "nbformat": 4,
 "nbformat_minor": 2
}
