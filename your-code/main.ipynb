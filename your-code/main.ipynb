{
 "cells": [
  {
   "cell_type": "markdown",
   "metadata": {},
   "source": [
    "# Before your start:\n",
    "\n",
    "    Read the README.md file\n",
    "    Comment as much as you can and use the resources (README.md file)\n",
    "    Happy learning!\n",
    "\n",
    "*Notes:* \n",
    "\n",
    "- Solve the questions with python.\n",
    "\n",
    "- Round the final answer to three decimal places."
   ]
  },
  {
   "cell_type": "code",
   "execution_count": 2,
   "metadata": {},
   "outputs": [],
   "source": [
    "from scipy import stats\n",
    "import numpy as np\n",
    "import matplotlib.pyplot as plt\n",
    "import math"
   ]
  },
  {
   "cell_type": "markdown",
   "metadata": {},
   "source": [
    "## Bernoulli's Distribution\n",
    "\n",
    "In a basket containing 100 fruits, there are 60 apples and 40 oranges. \n",
    "\n",
    "A fruit is picked randomly from the basket. \n",
    "\n",
    "1. **What is the probability that the fruit is apple?**\n",
    "2. **What is the probability that it is an orange?**"
   ]
  },
  {
   "cell_type": "code",
   "execution_count": 3,
   "metadata": {},
   "outputs": [],
   "source": [
    "\"\"\"\n",
    "Calculate:\n",
    "p = probability that the fruit is an apple \n",
    "q = probability that the fruit is an orange\n",
    "\"\"\"\n",
    "apples = 60\n",
    "oranges = 40\n",
    "total_fruits = 100\n",
    "\n",
    "p = apples / total_fruits\n",
    "q = oranges / total_fruits"
   ]
  },
  {
   "cell_type": "markdown",
   "metadata": {},
   "source": [
    "Now we take a random sample of 20 fruits from the basket. After each fruit is taken, a new fruit of the same type is replaced in the basket. Therefore, every time we are taking 1 fruit from 100 fruits. \n",
    "\n",
    "1. **What is the probability that the first 5 fruits are all apples?**\n",
    "\n",
    "1. **What is the probability that the first 5 fruits are all apples and the next 15 fruits are all oranges?**\n",
    "\n",
    "You can include the `p` and `q` probabilities you previous calculated in your solution."
   ]
  },
  {
   "cell_type": "code",
   "execution_count": 4,
   "metadata": {},
   "outputs": [
    {
     "name": "stdout",
     "output_type": "stream",
     "text": [
      "Q: What is the probability that the first 5 fruits are all apples?\n",
      "A: 0.078\n",
      "Q: What is the probability that the first 5 fruits are all apples and the next 15 fruits are all oranges?\n",
      "A: 0.0000001\n"
     ]
    }
   ],
   "source": [
    "# 1. What is the probability that the first 5 fruits are all apples?\n",
    "pfa = p ** 5 # probability five apples\n",
    "print(f'Q: What is the probability that the first 5 fruits are all apples?\\nA: {pfa:.3f}')\n",
    "\n",
    "# 2. What is the probability that the first 5 fruits are all apples and the next 15 fruits are all oranges?\n",
    "pfo = q ** 15 # probability fifteen oranges\n",
    "prob_sequence = pfa * pfo \n",
    "print(f'Q: What is the probability that the first 5 fruits are all apples and the next 15 fruits are all oranges?\\nA: {prob_sequence:.7f}')\n",
    "\n",
    "# import random\n",
    "# import numpy as np\n",
    "# from numpy import array\n",
    "\n",
    "# condition = 'aaaaaooooooooooooooo' # first five are apples, then 15 are oranges\n",
    "# matched_condition = 0\n",
    "# total_trials = 100000 # how many times we repeat the experiment\n",
    "# sample = 20 # one experiment consists of picking 20 fruits from the basket\n",
    "# basket = list(np.squeeze(np.full((1, 60), 'a'))) # 60 apples\n",
    "# basket.extend(np.squeeze(np.full((1,40),'o'))) # 40 oranges\n",
    "# random.shuffle(basket) # shuffle their position in the list\n",
    "\n",
    "# for i in range(0, total_trials):\n",
    "#     for j in range(0, sample):\n",
    "#         random.shuffle(basket)\n",
    "#         pick = random.choice(basket) # we pick a fruit\n",
    "#         if pick != condition[j]: # if the fruit we picked doesn't match our condition\n",
    "#             break # we break, because it doesn't matter what we pick next, we already failed this experiment\n",
    "#         else:\n",
    "#             if j==sample-1:\n",
    "#                 matched_condition += 1\n",
    "# match_rate = matched_condition/total_trials\n",
    "# print(f'Match rate: {match_rate:.30f}')"
   ]
  },
  {
   "cell_type": "code",
   "execution_count": 5,
   "metadata": {},
   "outputs": [],
   "source": [
    "# condition = 'aaaaaooooooooooooooo'  # first five are apples, then 15 are oranges\n",
    "# matched_condition = 0\n",
    "# total_trials = 1000000  # how many times we repeat the experiment\n",
    "# sample = 20  # one experiment consists of picking 20 fruits from the basket\n",
    "\n",
    "# # Probabilities\n",
    "# p = 0.6  # probability of picking an apple\n",
    "# q = 0.4  # probability of picking an orange\n",
    "\n",
    "# for _ in range(total_trials):\n",
    "#     picks = ''.join(random.choices(['a', 'o'], weights=[p, q], k=sample))\n",
    "#     if picks == condition:\n",
    "#         matched_condition += 1\n",
    "\n",
    "# match_rate = matched_condition / total_trials\n",
    "# print(f'Match rate: {match_rate:.20f}')"
   ]
  },
  {
   "cell_type": "markdown",
   "metadata": {},
   "source": [
    "## Binomial Distribution\n",
    "\n",
    "Similar to the above problem, this time again we randomly sample 20 fruits.\n",
    "\n",
    "**What is the probability that this time the sample contains 5 apples and 15 oranges?**\n",
    "\n",
    "Please note that this time the order of the fruits being picked does not matter."
   ]
  },
  {
   "cell_type": "code",
   "execution_count": 6,
   "metadata": {},
   "outputs": [
    {
     "name": "stdout",
     "output_type": "stream",
     "text": [
      "Probability of picking 5 apples: 0.001294494\n",
      "Probability of picking 15 oranges: 0.001294494\n"
     ]
    }
   ],
   "source": [
    "from scipy.stats import binom\n",
    "\n",
    "# Sample size and desired number of each fruit\n",
    "sample_size = 20\n",
    "desired_apples = 5\n",
    "# p - probability of getting an apple\n",
    "probability = binom.pmf(desired_apples, sample_size, p)\n",
    "\n",
    "print(f\"Probability of picking 5 apples: {probability:.9f}\")\n",
    "\n",
    "# which is the same probability of getting 15 oranges because the other 5 will be apples\n",
    "desired_oranges = 15\n",
    "probability = binom.pmf(desired_oranges, sample_size, q)\n",
    "print(f\"Probability of picking 15 oranges: {probability:.9f}\")"
   ]
  },
  {
   "cell_type": "markdown",
   "metadata": {},
   "source": [
    "In the lesson we also discussed CDF (cumulative distribution function). In the context of the above problem, **what is the probability that less than 5 fruits picked are apples?**\n",
    "\n",
    "Write the formula and calculate the probability below."
   ]
  },
  {
   "cell_type": "code",
   "execution_count": 7,
   "metadata": {},
   "outputs": [
    {
     "data": {
      "text/plain": [
       "0.00031703112116863004"
      ]
     },
     "execution_count": 7,
     "metadata": {},
     "output_type": "execute_result"
    }
   ],
   "source": [
    "# your code here\n",
    "desired_apples = 4\n",
    "binom.cdf(desired_apples, sample_size, p)"
   ]
  },
  {
   "cell_type": "markdown",
   "metadata": {},
   "source": [
    "**Plot the PDF (probability distributiom function) for the above binomial distribution.**\n",
    "\n",
    "*Hint: The range of x in a binomial distribution is from `0` to `n`.*"
   ]
  },
  {
   "cell_type": "code",
   "execution_count": 8,
   "metadata": {},
   "outputs": [
    {
     "data": {
      "image/png": "[encoded data removed]",
      "text/plain": [
       "<Figure size 640x480 with 1 Axes>"
      ]
     },
     "metadata": {},
     "output_type": "display_data"
    }
   ],
   "source": [
    "# your code here\n",
    "# Please label the axes and give a title to the plot \n",
    "import numpy as np\n",
    "import matplotlib.pyplot as plt\n",
    "\n",
    "p = 0.6 # probability of picking an apple\n",
    "n = 20  # number of trials \n",
    "x_values = np.arange(0, n+1)\n",
    "\n",
    "pmf_values = binom.pmf(x_values, n, p)\n",
    "\n",
    "plt.bar(x_values,pmf_values)\n",
    "plt.xlabel('Number of picked apples')\n",
    "plt.ylabel('Probability of picking x apples')\n",
    "plt.title('PMF for binomial distribution')\n",
    "\n",
    "# Show the plot\n",
    "plt.show()"
   ]
  },
  {
   "cell_type": "markdown",
   "metadata": {},
   "source": [
    "## Poisson Distribution\n",
    "\n",
    "In this challenge you are required to use the Math library in python to solve the problems.\n",
    "\n",
    "In the UEFA champions league tournament, the average number of goals scored in a match is 2.3. \n",
    "\n",
    "**What is the probability that the number of goals scored in a match is 5?**\n",
    "\n",
    "*Hint: Use the exp() in the math library*\n",
    "\n",
    "And to calculate the factorial, you can use the following code:\n",
    "\n",
    "```python\n",
    "import math\n",
    "math.factorial(n) # n is the number you want to find the factorial of\n",
    "```"
   ]
  },
  {
   "cell_type": "code",
   "execution_count": 17,
   "metadata": {},
   "outputs": [
    {
     "data": {
      "text/plain": [
       "0.053775025581946814"
      ]
     },
     "execution_count": 17,
     "metadata": {},
     "output_type": "execute_result"
    }
   ],
   "source": [
    "# your code here \n",
    "import math\n",
    "from scipy.stats import poisson\n",
    "\n",
    "goal_rate = 2.3\n",
    "prob_match = 5\n",
    "\n",
    "prob = poisson.pmf(prob_match, goal_rate)\n",
    "prob\n"
   ]
  },
  {
   "cell_type": "markdown",
   "metadata": {},
   "source": [
    "**Draw a poisson probability distribution plot for the number of goals to be between 0 to 10.**"
   ]
  },
  {
   "cell_type": "code",
   "execution_count": 19,
   "metadata": {},
   "outputs": [
    {
     "data": {
      "image/png": "[encoded data removed]",
      "text/plain": [
       "<Figure size 640x480 with 1 Axes>"
      ]
     },
     "metadata": {},
     "output_type": "display_data"
    }
   ],
   "source": [
    "# your code here\n",
    "# Please label the axes and give a title to the plot \n",
    "k_values = np.arange(0, 10)\n",
    "pmf_values = poisson.pmf(k_values,goal_rate)\n",
    "\n",
    "plt.bar(k_values, pmf_values)\n",
    "plt.title(\"Poisson Distribution - Goals per Match\")\n",
    "plt.xlabel(\"Number of Goals\")\n",
    "plt.ylabel(\"Probability\")\n",
    "plt.show()"
   ]
  }
 ],
 "metadata": {
  "kernelspec": {
   "display_name": "Python 3 (ipykernel)",
   "language": "python",
   "name": "python3"
  },
  "language_info": {
   "codemirror_mode": {
    "name": "ipython",
    "version": 3
   },
   "file_extension": ".py",
   "mimetype": "text/x-python",
   "name": "python",
   "nbconvert_exporter": "python",
   "pygments_lexer": "ipython3",
   "version": "3.11.9"
  },
  "vscode": {
   "interpreter": {
    "hash": "aee8b7b246df8f9039afb4144a1f6fd8d2ca17a180786b69acc140d282b71a49"
   }
  }
 },
 "nbformat": 4,
 "nbformat_minor": 2
}
