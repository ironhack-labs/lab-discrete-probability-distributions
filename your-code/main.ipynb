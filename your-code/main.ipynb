{
 "cells": [
  {
   "cell_type": "markdown",
   "metadata": {},
   "source": [
    "# Before your start:\n",
    "\n",
    "    Read the README.md file\n",
    "    Comment as much as you can and use the resources (README.md file)\n",
    "    Happy learning!\n",
    "\n",
    "*Notes:* \n",
    "\n",
    "- Solve the questions with python.\n",
    "\n",
    "- Round the final answer to three decimal places."
   ]
  },
  {
   "cell_type": "code",
   "execution_count": 2,
   "metadata": {},
   "outputs": [],
   "source": [
    "from scipy import stats\n",
    "import numpy as np\n",
    "import matplotlib.pyplot as plt\n",
    "import math"
   ]
  },
  {
   "cell_type": "markdown",
   "metadata": {},
   "source": [
    "## Bernoulli's Distribution\n",
    "\n",
    "In a basket containing 100 fruits, there are 60 apples and 40 oranges. \n",
    "\n",
    "A fruit is picked randomly from the basket. \n",
    "\n",
    "1. **What is the probability that the fruit is apple?**\n",
    "1. **What is the probability that it is an orange?**"
   ]
  },
  {
   "cell_type": "code",
   "execution_count": 31,
   "metadata": {},
   "outputs": [
    {
     "name": "stdout",
     "output_type": "stream",
     "text": [
      "Probability of apple: 0.600\n",
      "Probability of orange: 0.400\n"
     ]
    }
   ],
   "source": [
    "\"\"\"\n",
    "Calculate:\n",
    "p = probability that the fruit is an apple \n",
    "q = probability that the fruit is an orange\n",
    "\"\"\"\n",
    "\n",
    "# your solution here\n",
    "\n",
    "# Given data\n",
    "total_fruits = 100\n",
    "apples = 60\n",
    "oranges = 40\n",
    "\n",
    "# Probability of picking an apple (p)\n",
    "p = apples / total_fruits\n",
    "\n",
    "# Probability of picking an orange (q)\n",
    "q = oranges / total_fruits\n",
    "\n",
    "# Print probabilities\n",
    "print(f\"Probability of apple: {p:.3f}\")\n",
    "print(f\"Probability of orange: {q:.3f}\")\n"
   ]
  },
  {
   "cell_type": "markdown",
   "metadata": {},
   "source": [
    "Now we take a random sample of 20 fruits from the basket. After each fruit is taken, a new fruit of the same type is replaced in the basket. Therefore, every time we are taking 1 fruit from 100 fruits. \n",
    "\n",
    "1. **What is the probability that the first 5 fruits are all apples?**\n",
    "\n",
    "1. **What is the probability that the first 5 fruits are all apples and the next 15 fruits are all oranges?**\n",
    "\n",
    "You can include the `p` and `q` probabilities you previous calculated in your solution."
   ]
  },
  {
   "cell_type": "code",
   "execution_count": 29,
   "metadata": {},
   "outputs": [
    {
     "name": "stdout",
     "output_type": "stream",
     "text": [
      "Probability that the first 5 fruits are apples: 0.078\n",
      "Probability that the first 5 fruits are apples and next 15 fruits are oranges: 0.000000083\n"
     ]
    }
   ],
   "source": [
    "# your solution here\n",
    "\n",
    "# Probability that the first 5 fruits are apples (assuming replacement)\n",
    "prob_first_5_apples = p ** 5\n",
    "print(f\"Probability that the first 5 fruits are apples: {prob_first_5_apples:.3f}\")\n",
    "\n",
    "# Probability that the first 5 are apples and the next 15 are oranges\n",
    "prob_first_5_apples_next_15_oranges = (p ** 5) * (q ** 15)\n",
    "print(f\"Probability that the first 5 fruits are apples and next 15 fruits are oranges: {prob_first_5_apples_next_15_oranges:.9f}\")\n",
    "\n"
   ]
  },
  {
   "cell_type": "markdown",
   "metadata": {},
   "source": [
    "## Binomial Distribution\n",
    "\n",
    "Similar to the above problem, this time again we randomly sample 20 fruits.\n",
    "\n",
    "**What is the probability that this time the sample contains 5 apples and 15 oranges?**\n",
    "\n",
    "Please note that this time the order of the fruits being picked does not matter."
   ]
  },
  {
   "cell_type": "code",
   "execution_count": 27,
   "metadata": {},
   "outputs": [
    {
     "name": "stdout",
     "output_type": "stream",
     "text": [
      "Probability of picking 5 apples and 15 oranges (binomial): 0.001\n"
     ]
    }
   ],
   "source": [
    "# your solution here\n",
    "\n",
    "# Parameters for binomial distribution\n",
    "n = 20  # Total number of fruits\n",
    "k = 5   # Number of apples in the sample\n",
    "\n",
    "# Binomial probability using scipy\n",
    "binom_prob = stats.binom.pmf(k, n, p)\n",
    "print(f\"Probability of picking 5 apples and 15 oranges (binomial): {binom_prob:.3f}\")\n"
   ]
  },
  {
   "cell_type": "markdown",
   "metadata": {},
   "source": [
    "In the lesson we also discussed CDF (cumulative distribution function). In the context of the above problem, **what is the probability that less than 5 fruits picked are apples?**\n",
    "\n",
    "Write the formula and calculate the probability below."
   ]
  },
  {
   "cell_type": "code",
   "execution_count": 25,
   "metadata": {},
   "outputs": [
    {
     "name": "stdout",
     "output_type": "stream",
     "text": [
      "Probability of picking less than 5 apples: 0.00032\n"
     ]
    }
   ],
   "source": [
    "# your code here\n",
    "\n",
    "# CDF for the probability of picking less than 5 apples\n",
    "cdf_prob = stats.binom.cdf(4, n, p)  # Less than 5 means 0 to 4 apples\n",
    "print(f\"Probability of picking less than 5 apples: {cdf_prob:.5f}\")\n"
   ]
  },
  {
   "cell_type": "markdown",
   "metadata": {},
   "source": [
    "**Plot the PDF (probability distributiom function) for the above binomial distribution.**\n",
    "\n",
    "*Hint: The range of x in a binomial distribution is from `0` to `n`.*"
   ]
  },
  {
   "cell_type": "code",
   "execution_count": 23,
   "metadata": {},
   "outputs": [
    {
     "data": {
      "image/png": "[encoded data removed]",
      "text/plain": [
       "<Figure size 640x480 with 1 Axes>"
      ]
     },
     "metadata": {},
     "output_type": "display_data"
    }
   ],
   "source": [
    "# your code here\n",
    "# Please label the axes and give a title to the plot \n",
    "\n",
    "# Binomial distribution PDF plot\n",
    "x = np.arange(0, n + 1)\n",
    "y = stats.binom.pmf(x, n, p)\n",
    "\n",
    "plt.plot(x, y, 'o', label=\"Binomial PMF\", color=\"blue\")\n",
    "plt.xlabel(\"Number of Apples\")\n",
    "plt.ylabel(\"Probability\")\n",
    "plt.title(\"Binomial Distribution PMF\")\n",
    "plt.grid(True)\n",
    "plt.show()\n"
   ]
  },
  {
   "cell_type": "markdown",
   "metadata": {},
   "source": [
    "## Poisson Distribution\n",
    "\n",
    "In this challenge you are required to use the Math library in python to solve the problems.\n",
    "\n",
    "In the UEFA champions league tournament, the average number of goals scored in a match is 2.3. \n",
    "\n",
    "**What is the probability that the number of goals scored in a match is 5?**\n",
    "\n",
    "*Hint: Use the exp() in the math library*\n",
    "\n",
    "And to calculate the factorial, you can use the following code:\n",
    "\n",
    "```python\n",
    "import math\n",
    "math.factorial(n) # n is the number you want to find the factorial of\n",
    "```"
   ]
  },
  {
   "cell_type": "code",
   "execution_count": 34,
   "metadata": {},
   "outputs": [
    {
     "name": "stdout",
     "output_type": "stream",
     "text": [
      "Probability of 5 goals in a match (Poisson): 0.054\n"
     ]
    }
   ],
   "source": [
    "# your code here \n",
    "\n",
    "# Poisson distribution with λ = 2.3 (average goals per match) and k = 5\n",
    "lambda_ = 2.3\n",
    "k = 5\n",
    "\n",
    "poisson_prob = (lambda_**k * math.exp(-lambda_)) / math.factorial(k)\n",
    "print(f\"Probability of 5 goals in a match (Poisson): {poisson_prob:.3f}\")\n"
   ]
  },
  {
   "cell_type": "markdown",
   "metadata": {},
   "source": [
    "**Draw a poisson probability distribution plot for the number of goals to be between 0 to 10.**"
   ]
  },
  {
   "cell_type": "code",
   "execution_count": 48,
   "metadata": {},
   "outputs": [
    {
     "data": {
      "image/png": "[encoded data removed]",
      "text/plain": [
       "<Figure size 640x480 with 1 Axes>"
      ]
     },
     "metadata": {},
     "output_type": "display_data"
    }
   ],
   "source": [
    "import math  # Importing math to use math.factorial\n",
    "# This line is unnecessary for the final code, but it's included for clarity\n",
    "# math.factorial(n) # n is the number you want to find the factorial of\n",
    "\n",
    "# Poisson distribution plot\n",
    "x_poisson = np.arange(0, 11)\n",
    "y_poisson = (lambda_**x_poisson * np.exp(-lambda_)) / [math.factorial(x) for x in x_poisson]\n",
    "\n",
    "plt.plot(x_poisson, y_poisson, 'o', label=\"Poisson PMF\", color=\"green\")\n",
    "plt.xlabel(\"Number of Goals\")\n",
    "plt.ylabel(\"Probability\")\n",
    "plt.title(\"Poisson Distribution PMF\")\n",
    "plt.grid(True)\n",
    "plt.show()\n"
   ]
  }
 ],
 "metadata": {
  "kernelspec": {
   "display_name": "Python [conda env:base] *",
   "language": "python",
   "name": "conda-base-py"
  },
  "language_info": {
   "codemirror_mode": {
    "name": "ipython",
    "version": 3
   },
   "file_extension": ".py",
   "mimetype": "text/x-python",
   "name": "python",
   "nbconvert_exporter": "python",
   "pygments_lexer": "ipython3",
   "version": "3.12.7"
  },
  "vscode": {
   "interpreter": {
    "hash": "aee8b7b246df8f9039afb4144a1f6fd8d2ca17a180786b69acc140d282b71a49"
   }
  }
 },
 "nbformat": 4,
 "nbformat_minor": 4
}
