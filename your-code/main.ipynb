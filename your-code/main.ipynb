{
 "cells": [
  {
   "cell_type": "markdown",
   "metadata": {},
   "source": [
    "# Before your start:\n",
    "\n",
    "    Read the README.md file\n",
    "    Comment as much as you can and use the resources (README.md file)\n",
    "    Happy learning!\n",
    "\n",
    "*Notes:* \n",
    "\n",
    "- Solve the questions with python.\n",
    "\n",
    "- Round the final answer to three decimal places."
   ]
  },
  {
   "cell_type": "code",
   "execution_count": 1,
   "metadata": {},
   "outputs": [],
   "source": [
    "from scipy import stats\n",
    "import numpy as np\n",
    "import matplotlib.pyplot as plt\n",
    "import math"
   ]
  },
  {
   "cell_type": "markdown",
   "metadata": {},
   "source": [
    "## Bernoulli's Distribution\n",
    "\n",
    "In a basket containing 100 fruits, there are 60 apples and 40 oranges. \n",
    "\n",
    "A fruit is picked randomly from the basket. \n",
    "\n",
    "1. **What is the probability that the fruit is apple?**\n",
    "1. **What is the probability that it is an orange?**"
   ]
  },
  {
   "cell_type": "code",
   "execution_count": 4,
   "metadata": {},
   "outputs": [
    {
     "name": "stdout",
     "output_type": "stream",
     "text": [
      "0.6 0.4\n"
     ]
    }
   ],
   "source": [
    "\"\"\"\n",
    "Calculate:\n",
    "p = probability that the fruit is an apple \n",
    "q = probability that the fruit is an orange\n",
    "\"\"\"\n",
    "p = 60/100\n",
    "q = 40/100\n",
    "print(p,q)"
   ]
  },
  {
   "cell_type": "markdown",
   "metadata": {},
   "source": [
    "Now we take a random sample of 20 fruits from the basket. After each fruit is taken, a new fruit of the same type is replaced in the basket. Therefore, every time we are taking 1 fruit from 100 fruits. \n",
    "\n",
    "1. **What is the probability that the first 5 fruits are all apples?**\n",
    "\n",
    "1. **What is the probability that the first 5 fruits are all apples and the next 15 fruits are all oranges?**\n",
    "\n",
    "You can include the `p` and `q` probabilities you previous calculated in your solution."
   ]
  },
  {
   "cell_type": "code",
   "execution_count": 8,
   "metadata": {},
   "outputs": [
    {
     "data": {
      "text/plain": [
       "0.0"
      ]
     },
     "execution_count": 8,
     "metadata": {},
     "output_type": "execute_result"
    }
   ],
   "source": [
    "# probability that the first 5 fruits are all apples?\n",
    "#each draw is independent\n",
    "p_apple = 60/100\n",
    "p_orange = 40/100\n",
    "prob_firs5apple = p_apple **5\n",
    "round(prob_firs5apple, 3)\n",
    "\n",
    "# Probability that the first 5 fruits are all apples and the next 15 fruits are all oranges\n",
    "\n",
    "prob_5apple_15oranges = (p_apple**5) * (p_orange**15)\n",
    "round(prob_5apple_15oranges, 3)\n",
    "\n"
   ]
  },
  {
   "cell_type": "markdown",
   "metadata": {},
   "source": [
    "## Binomial Distribution\n",
    "\n",
    "Similar to the above problem, this time again we randomly sample 20 fruits.\n",
    "\n",
    "**What is the probability that this time the sample contains 5 apples and 15 oranges?**\n",
    "\n",
    "Please note that this time the order of the fruits being picked does not matter."
   ]
  },
  {
   "cell_type": "code",
   "execution_count": 11,
   "metadata": {},
   "outputs": [],
   "source": [
    "from scipy.stats import binom\n"
   ]
  },
  {
   "cell_type": "code",
   "execution_count": 12,
   "metadata": {},
   "outputs": [
    {
     "name": "stdout",
     "output_type": "stream",
     "text": [
      "Probability of finding exactly 5 defective items: 0.001\n"
     ]
    }
   ],
   "source": [
    "# Binomial probability: exactly successes on repeated trials in an experiment\n",
    "# that has two possibles outcomes\n",
    "\n",
    "n = 20  # Total number of items (fruits)\n",
    "p_apple = 0.6  \n",
    "\n",
    "k = 5  # we want 5 apples\n",
    "prob = binom.pmf(k, n, p_apple)  # pmf is the probability mass function for binomial distribution\n",
    "print(f\"Probability of finding exactly {k} defective items: {round(prob, 3)}\")"
   ]
  },
  {
   "cell_type": "code",
   "execution_count": 13,
   "metadata": {},
   "outputs": [
    {
     "name": "stdout",
     "output_type": "stream",
     "text": [
      "Probability of finding exactly 15 defective items: 0.001\n"
     ]
    }
   ],
   "source": [
    "# your solution here\n",
    "\n",
    "n = 20  # Total number of items (fruits)\n",
    "p_orange = 0.4  \n",
    "\n",
    "k = 15  # we want 15 oranges\n",
    "prob = binom.pmf(k, n, p_orange)  # pmf is the probability mass function for binomial distribution\n",
    "print(f\"Probability of finding exactly {k} defective items: {round(prob, 3)}\")"
   ]
  },
  {
   "cell_type": "code",
   "execution_count": null,
   "metadata": {},
   "outputs": [],
   "source": [
    "# we got the same result because always need to get 5 apples and 15 oranges"
   ]
  },
  {
   "cell_type": "markdown",
   "metadata": {},
   "source": [
    "In the lesson we also discussed CDF (cumulative distribution function). In the context of the above problem, **what is the probability that less than 5 fruits picked are apples?**\n",
    "\n",
    "Write the formula and calculate the probability below."
   ]
  },
  {
   "cell_type": "code",
   "execution_count": 14,
   "metadata": {},
   "outputs": [
    {
     "name": "stdout",
     "output_type": "stream",
     "text": [
      "0.0\n"
     ]
    }
   ],
   "source": [
    "# CDF: probability that X will take a value less than or equal to X\n",
    "n = 20  \n",
    "p_apple = 0.6  \n",
    "\n",
    "k = 4  # <= less than 5 fruits\n",
    "prob = binom.cdf(k, n, p_apple)  # cdf is the probability mass function for binomial distribution\n",
    "print(round(prob, 3))"
   ]
  },
  {
   "cell_type": "markdown",
   "metadata": {},
   "source": [
    "**Plot the PDF (probability distributiom function) for the above binomial distribution.**\n",
    "\n",
    "*Hint: The range of x in a binomial distribution is from `0` to `n`.*"
   ]
  },
  {
   "cell_type": "code",
   "execution_count": 15,
   "metadata": {},
   "outputs": [
    {
     "data": {
      "image/png": "[encoded data removed]",
      "text/plain": [
       "<Figure size 1000x600 with 1 Axes>"
      ]
     },
     "metadata": {},
     "output_type": "display_data"
    }
   ],
   "source": [
    "# PDF: describes all the possible values and likelihoods that a random\n",
    "# variable can take within a given range\n",
    "\n",
    "import numpy as np\n",
    "import matplotlib.pyplot as plt\n",
    "from scipy.stats import binom\n",
    "\n",
    "# Given probabilities\n",
    "p_apple = 0.6  # Probability of picking an apple\n",
    "n = 20  # Number of trials (fruits picked)\n",
    "\n",
    "# Define the range of x (number of apples) from 0 to n\n",
    "x = np.arange(0, n + 1)\n",
    "\n",
    "# Calculate the binomial PMF (Probability Mass Function) for each value of x\n",
    "pmf = binom.pmf(x, n, p_apple)\n",
    "\n",
    "# Plotting the PDF\n",
    "plt.figure(figsize=(10, 6))\n",
    "plt.bar(x, pmf, color='blue', alpha=0.7)\n",
    "plt.xlabel('Number of Apples')\n",
    "plt.ylabel('Probability')\n",
    "plt.title('Binomial Distribution PDF (n=20, p=0.6)')\n",
    "plt.grid(True)\n",
    "plt.show()\n"
   ]
  },
  {
   "cell_type": "markdown",
   "metadata": {},
   "source": [
    "## Poisson Distribution\n",
    "\n",
    "In this challenge you are required to use the Math library in python to solve the problems.\n",
    "\n",
    "In the UEFA champions league tournament, the average number of goals scored in a match is 2.3. \n",
    "\n",
    "**What is the probability that the number of goals scored in a match is 5?**\n",
    "\n",
    "*Hint: Use the exp() in the math library*\n",
    "\n",
    "And to calculate the factorial, you can use the following code:\n",
    "\n",
    "```python\n",
    "import math\n",
    "math.factorial(n) # n is the number you want to find the factorial of\n",
    "```"
   ]
  },
  {
   "cell_type": "code",
   "execution_count": 16,
   "metadata": {},
   "outputs": [
    {
     "name": "stdout",
     "output_type": "stream",
     "text": [
      "0.054\n"
     ]
    }
   ],
   "source": [
    "#A binomial distribution describes the probability of obtaining exactly $( k )$ successes in \n",
    "#$( n )$ independent trials of a binary experiment. The experiment can result in just two possible outcomes, \n",
    "#often termed as \"success\" and \"failure\".\n",
    "import math\n",
    "\n",
    "mu = 2.3 # average number of goals\n",
    "k = 5 #number of goals we are interested in\n",
    "\n",
    "## Poisson Distribution formula; Probability Mass Function (PMF) : (mu^x * e^-mu) / x!\n",
    "\n",
    "lambda_exp = math.exp(-mu)\n",
    "poisson_prob = (mu**k) * lambda_exp / math.factorial(k)\n",
    "print(round(poisson_prob, 3))"
   ]
  },
  {
   "cell_type": "markdown",
   "metadata": {},
   "source": [
    "**Draw a poisson probability distribution plot for the number of goals to be between 0 to 10.**"
   ]
  },
  {
   "cell_type": "code",
   "execution_count": 17,
   "metadata": {},
   "outputs": [
    {
     "data": {
      "image/png": "[encoded data removed]",
      "text/plain": [
       "<Figure size 1000x600 with 1 Axes>"
      ]
     },
     "metadata": {},
     "output_type": "display_data"
    }
   ],
   "source": [
    "from scipy.stats import poisson\n",
    "\n",
    "\n",
    "# Given average number of goals\n",
    "mu = 2.3\n",
    "\n",
    "# Define the range of number of goals (0 to 10)\n",
    "k_values = np.arange(0, 11)\n",
    "\n",
    "# Calculate the Poisson probabilities for the range of goals\n",
    "poisson_probs = poisson.pmf(k_values, mu)\n",
    "\n",
    "# Plotting the Poisson distribution\n",
    "plt.figure(figsize=(10, 6))\n",
    "plt.bar(k_values, poisson_probs, color='blue', alpha=0.7)\n",
    "plt.xlabel('Number of Goals')\n",
    "plt.ylabel('Probability')\n",
    "plt.title('Poisson Distribution of Goals in a UEFA Champions League Match')\n",
    "plt.grid(True)\n",
    "plt.xticks(k_values)  # Ensure all k values are shown on the x-axis\n",
    "plt.show()"
   ]
  }
 ],
 "metadata": {
  "kernelspec": {
   "display_name": "Python 3 (ipykernel)",
   "language": "python",
   "name": "python3"
  },
  "language_info": {
   "codemirror_mode": {
    "name": "ipython",
    "version": 3
   },
   "file_extension": ".py",
   "mimetype": "text/x-python",
   "name": "python",
   "nbconvert_exporter": "python",
   "pygments_lexer": "ipython3",
   "version": "3.11.7"
  },
  "vscode": {
   "interpreter": {
    "hash": "aee8b7b246df8f9039afb4144a1f6fd8d2ca17a180786b69acc140d282b71a49"
   }
  }
 },
 "nbformat": 4,
 "nbformat_minor": 2
}
