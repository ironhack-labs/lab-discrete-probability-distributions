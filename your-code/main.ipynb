{
 "cells": [
  {
   "cell_type": "markdown",
   "metadata": {},
   "source": [
    "# Before your start:\n",
    "\n",
    "    Read the README.md file\n",
    "    Comment as much as you can and use the resources (README.md file)\n",
    "    Happy learning!\n",
    "\n",
    "*Notes:* \n",
    "\n",
    "- Solve the questions with python.\n",
    "\n",
    "- Round the final answer to three decimal places."
   ]
  },
  {
   "cell_type": "code",
   "execution_count": 3,
   "metadata": {},
   "outputs": [],
   "source": [
    "from scipy import stats\n",
    "import numpy as np\n",
    "import matplotlib.pyplot as plt\n",
    "import math"
   ]
  },
  {
   "cell_type": "markdown",
   "metadata": {},
   "source": [
    "## Bernoulli's Distribution\n",
    "\n",
    "In a basket containing 100 fruits, there are 60 apples and 40 oranges. \n",
    "\n",
    "A fruit is picked randomly from the basket. \n",
    "\n",
    "1. **What is the probability that the fruit is apple?**\n",
    "1. **What is the probability that it is an orange?**"
   ]
  },
  {
   "cell_type": "markdown",
   "metadata": {},
   "source": [
    "# Probability of Picking an Orange and an Apple from a Basket\n",
    "\n",
    "Given a basket of **100 fruits**, consisting of:\n",
    "\n",
    "- 60 apples\n",
    "- 40 oranges\n",
    "\n",
    "We want to find the probability of **picking an orange** and that of **picking an apple** when a single fruit is drawn at random.\n",
    "\n",
    "---\n",
    "\n",
    "## Explanation\n",
    "\n",
    "1. **Total number of fruits**:  \n",
    "   \\[\n",
    "   \\text{Total} = 100\n",
    "   \\]\n",
    "\n",
    "2. **Number of apples**:  \n",
    "   \\[\n",
    "   \\text{Apples} = 60\n",
    "   \\]\n",
    "    \n",
    "3. **Probability of picking an apple**:\n",
    "    \\[\n",
    "    P(\\text{apple}) = \\frac{\\text{Number of apples}}{\\text{Total number of apples}}\n",
    "                    = \\frac{60}{100}\n",
    "                    = 0.6.\n",
    "\n",
    "4. **Number of oranges**:  \n",
    "   \\[\n",
    "   \\text{Oranges} = 40\n",
    "   \\]\n",
    "\n",
    "5. **Probability of picking an orange**:\n",
    "   \\[\n",
    "   P(\\text{orange}) = \\frac{\\text{Number of oranges}}{\\text{Total number of fruits}}\n",
    "                    = \\frac{40}{100}\n",
    "                    = 0.4.\n",
    "   \\]\n",
    "\n",
    "Therefore, there is a **40%** chance of picking an orange from the basket."
   ]
  },
  {
   "cell_type": "code",
   "execution_count": 16,
   "metadata": {},
   "outputs": [
    {
     "name": "stdout",
     "output_type": "stream",
     "text": [
      "Probability of picking an apple is 0.60 (i.e. 60%)\n",
      "Probability of picking an orange is 0.40 (i.e. 40%)\n"
     ]
    }
   ],
   "source": [
    "# Python Code\n",
    "def probability_of_apple():\n",
    "    total_fruits = 100\n",
    "    apples = 60\n",
    "\n",
    "    # Probability = apples / total_fruits\n",
    "    p = apples / total_fruits\n",
    "\n",
    "    print(f\"Probability of picking an apple is {p:.2f} (i.e. {p*100:.0f}%)\")\n",
    "\n",
    "if __name__ == \"__main__\":\n",
    "    probability_of_apple()\n",
    "\n",
    "def probability_of_orange():\n",
    "    total_fruits = 100\n",
    "    oranges = 40\n",
    "\n",
    "    # Probability = oranges / total_fruits\n",
    "    q = oranges / total_fruits\n",
    "\n",
    "    print(f\"Probability of picking an orange is {q:.2f} (i.e. {q*100:.0f}%)\")\n",
    "\n",
    "if __name__ == \"__main__\":\n",
    "    probability_of_orange()"
   ]
  },
  {
   "cell_type": "markdown",
   "metadata": {},
   "source": [
    "Now we take a random sample of 20 fruits from the basket. After each fruit is taken, a new fruit of the same type is replaced in the basket. Therefore, every time we are taking 1 fruit from 100 fruits. \n",
    "\n",
    "1. **What is the probability that the first 5 fruits are all apples?**\n",
    "\n",
    "1. **What is the probability that the first 5 fruits are all apples and the next 15 fruits are all oranges?**\n",
    "\n",
    "You can include the `p` and `q` probabilities you previous calculated in your solution."
   ]
  },
  {
   "cell_type": "markdown",
   "metadata": {},
   "source": [
    "# Sampling from a Fruit Basket with Replacement\n",
    "\n",
    "We have a basket containing **100 fruits**, of which:\n",
    "- **60** are apples,  \n",
    "- **40** are oranges.\n",
    "\n",
    "Each time we draw one fruit, we **replace** it with a new fruit of the **same type**. Thus, **each draw** is effectively from the same distribution:\n",
    "- \\(P(\\text{apple}) = \\frac{60}{100} = 0.6\\)\n",
    "- \\(P(\\text{orange}) = \\frac{40}{100} = 0.4\\)\n",
    "\n",
    "We now take a **random sample of 20 fruits** (with replacement after each draw). We want to find:\n",
    "\n",
    "1. The probability that the **first 5 fruits** are **all apples**.  \n",
    "2. The probability that the **first 5 fruits** are all apples **and** the **next 15 fruits** are all oranges.\n",
    "\n",
    "---\n",
    "\n",
    "## 1) Probability that the **first 5** fruits are **all apples**\n",
    "\n",
    "Since each draw is independent (because we replace the fruit with another of the same type), the probability of drawing an apple on each draw is \\(0.6\\).\n",
    "\n",
    "For 5 independent draws (with replacement), the probability of getting apples on all 5 draws is:\n",
    "\n",
    "\\[\n",
    "P(\\text{5 apples in a row})\n",
    "= 0.6^5\n",
    "= 0.6 \\times 0.6 \\times 0.6 \\times 0.6 \\times 0.6.\n",
    "\\]\n",
    "\n",
    "---\n",
    "\n",
    "## 2) Probability that the **first 5** fruits are all apples **and** the **next 15** are all oranges\n",
    "\n",
    "1. Probability of first 5 apples: \\(0.6^5\\).  \n",
    "2. Probability of next 15 oranges: \\(0.4^{15}\\).  \n",
    "3. Since each draw is independent, we **multiply** these probabilities:\n",
    "\n",
    "\\[\n",
    "P(\\text{5 apples then 15 oranges})\n",
    "= 0.6^5 \\times 0.4^{15}.\n",
    "\\]\n",
    "\n",
    "---"
   ]
  },
  {
   "cell_type": "code",
   "execution_count": 19,
   "metadata": {},
   "outputs": [
    {
     "name": "stdout",
     "output_type": "stream",
     "text": [
      "1) Probability first 5 fruits are all apples: 0.07776000\n",
      "2) Probability first 5 are apples and next 15 are oranges: 0.00000008\n"
     ]
    }
   ],
   "source": [
    "# Python code\n",
    "\n",
    "def fruit_probabilities():\n",
    "    import math\n",
    "\n",
    "    # Given probabilities\n",
    "    p = 0.60  # Probability of drawing an apple\n",
    "    q = 0.40 # Probability of drawing an orange\n",
    "\n",
    "    # 1) First 5 fruits are apples (with replacement)\n",
    "    p_five_apples = p**5\n",
    "\n",
    "    # 2) First 5 apples, next 15 oranges\n",
    "    p_five_apples_fifteen_oranges = (p**5) * (q**15)\n",
    "\n",
    "    print(f\"1) Probability first 5 fruits are all apples: {p_five_apples:.8f}\")\n",
    "    print(f\"2) Probability first 5 are apples and next 15 are oranges: {p_five_apples_fifteen_oranges:.8f}\")\n",
    "\n",
    "if __name__ == '__main__':\n",
    "    fruit_probabilities()"
   ]
  },
  {
   "cell_type": "markdown",
   "metadata": {},
   "source": [
    "## Binomial Distribution\n",
    "\n",
    "Similar to the above problem, this time again we randomly sample 20 fruits.\n",
    "\n",
    "**What is the probability that this time the sample contains 5 apples and 15 oranges?**\n",
    "\n",
    "Please note that this time the order of the fruits being picked does not matter."
   ]
  },
  {
   "cell_type": "markdown",
   "metadata": {},
   "source": [
    "# Sampling 20 Fruits with Replacement (Binomial Distribution)\n",
    "\n",
    "We have a basket of **100 fruits**:  \n",
    "- 60 apples (60%)  \n",
    "- 40 oranges (40%)\n",
    "\n",
    "When we **pick a fruit**, we **replace it** with another of the **same type**, so each draw is always:\n",
    "- \\(P(\\text{apple}) = 0.6\\)\n",
    "- \\(P(\\text{orange}) = 0.4\\)\n",
    "\n",
    "We draw **20 fruits**, and the **order does not matter**. We want the probability that, out of these 20 fruits, we **end up with 5 apples** and **15 oranges**.\n",
    "\n",
    "---\n",
    "\n",
    "## Binomial Distribution Setup\n",
    "\n",
    "Each draw is an independent Bernoulli trial with:\n",
    "- Success probability = \\(p = 0.6\\) (if we call “apple” a success)\n",
    "- Failure probability = \\(1 - p = 0.4\\) (orange)\n",
    "\n",
    "Let \\(X\\) be the random variable counting how many apples we get in 20 draws. Then \\(X\\) follows a **Binomial** distribution:\n",
    "\n",
    "\\[\n",
    "X \\sim \\text{Binomial}(n=20, p=0.6).\n",
    "\\]\n",
    "\n",
    "We want \\(P(X = 5)\\), i.e., the probability of getting **exactly 5 apples** (and hence 15 oranges) in 20 draws. The probability mass function of a binomial random variable is:\n",
    "\n",
    "\\[\n",
    "P(X = k) = \\binom{n}{k} \\, p^k \\, (1-p)^{n-k}.\n",
    "\\]\n",
    "\n",
    "Hence:\n",
    "\n",
    "\\[\n",
    "P(\\text{5 apples, 15 oranges}) \n",
    "= \\binom{20}{5} \\times (0.6)^5 \\times (0.4)^{15}.\n",
    "\\]"
   ]
  },
  {
   "cell_type": "code",
   "execution_count": 21,
   "metadata": {},
   "outputs": [
    {
     "name": "stdout",
     "output_type": "stream",
     "text": [
      "Probability of exactly 5 apples (and 15 oranges) out of 20 draws: 0.001294\n"
     ]
    }
   ],
   "source": [
    "# Python code\n",
    "from math import comb\n",
    "\n",
    "def probability_5_apples_15_oranges():\n",
    "    n = 20          # number of draws\n",
    "    k = 5           # desired number of apples\n",
    "    p = 0.6         # probability of an apple\n",
    "    q = 0.4         # probability of an orange\n",
    "\n",
    "    # Binomial formula: C(n, k) * p^k * (q)^(n-k)\n",
    "    ways = comb(n, k)\n",
    "    p_exact_5_apples = ways * (p**k) * ((1 - p)**(n - k))\n",
    "\n",
    "    print(f\"Probability of exactly 5 apples (and 15 oranges) out of 20 draws: {p_exact_5_apples:.6f}\")\n",
    "\n",
    "if __name__ == '__main__':\n",
    "    probability_5_apples_15_oranges()"
   ]
  },
  {
   "cell_type": "markdown",
   "metadata": {},
   "source": [
    "In the lesson we also discussed CDF (cumulative distribution function). In the context of the above problem, **what is the probability that less than 5 fruits picked are apples?**\n",
    "\n",
    "Write the formula and calculate the probability below."
   ]
  },
  {
   "cell_type": "markdown",
   "metadata": {},
   "source": [
    "# CDF for Number of Apples in 20 Draws (With Replacement)\n",
    "\n",
    "We have a binomial random variable \\(X\\) representing the number of apples in **20** draws (each draw has a probability of **0.6** of being an apple, due to 60 out of 100 fruits being apples). That is:\n",
    "\n",
    "\\[\n",
    "X \\sim \\text{Binomial}(n = 20, p = 0.6).\n",
    "\\]\n",
    "\n",
    "The **CDF** (cumulative distribution function) at a point \\(x\\) is:\n",
    "\n",
    "\\[\n",
    "F_X(x) = P(X \\le x).\n",
    "\\]\n",
    "\n",
    "In this problem, we want the probability that **fewer than 5** fruits are apples, i.e. \\(P(X < 5)\\). Mathematically, that means:\n",
    "\n",
    "\\[\n",
    "P(X < 5) = \\sum_{k=0}^{4} P(X = k).\n",
    "\\]\n",
    "\n",
    "And for a Binomial random variable,\n",
    "\n",
    "\\[\n",
    "P(X = k) \n",
    "= \\binom{n}{k} \\, p^k \\, (1-p)^{n-k},\n",
    "\\]\n",
    "where \\(n=20\\) and \\(p=0.6\\).\n",
    "\n",
    "Hence:\n",
    "\n",
    "\\[\n",
    "P(X < 5) \n",
    "= \\sum_{k=0}^{4} \\binom{20}{k} (0.6)^k (0.4)^{20-k}.\n",
    "\\]"
   ]
  },
  {
   "cell_type": "code",
   "execution_count": 24,
   "metadata": {},
   "outputs": [
    {
     "name": "stdout",
     "output_type": "stream",
     "text": [
      "Probability(X < 5 apples) = 0.000317\n"
     ]
    }
   ],
   "source": [
    "# Python code\n",
    "from math import comb\n",
    "\n",
    "def probability_less_than_5_apples():\n",
    "    n = 20              # draws\n",
    "    p = 0.6             # probability of an apple\n",
    "    q = 0.4             # probability of an orange\n",
    "\n",
    "    cdf_value = 0.0\n",
    "    for k in range(0, 5):  # k = 0, 1, 2, 3, 4\n",
    "        # Binomial PMF for X = k\n",
    "        ways = comb(n, k)\n",
    "        pmf = ways * (p**k) * ((q)**(n - k))\n",
    "        cdf_value += pmf\n",
    "\n",
    "    print(f\"Probability(X < 5 apples) = {cdf_value:.6f}\")\n",
    "\n",
    "if __name__ == '__main__':\n",
    "    probability_less_than_5_apples()"
   ]
  },
  {
   "cell_type": "markdown",
   "metadata": {},
   "source": [
    "**Plot the PDF (probability distributiom function) for the above binomial distribution.**\n",
    "\n",
    "*Hint: The range of x in a binomial distribution is from `0` to `n`.*"
   ]
  },
  {
   "cell_type": "markdown",
   "metadata": {},
   "source": [
    "# Plotting the Probability Distribution (PMF) for a Binomial(20, 0.6)\n",
    "\n",
    "We have the binomial random variable:\n",
    "\n",
    "\\[\n",
    "X \\sim \\text{Binomial}(n=20, p=0.6).\n",
    "\\]\n",
    "\n",
    "The **probability mass function** (PMF) is given by:\n",
    "\n",
    "\\[\n",
    "P(X = k) \n",
    "= \\binom{n}{k}\\, p^k \\, (1 - p)^{\\,n-k},\n",
    "\\]\n",
    "for \\(k = 0, 1, 2, \\dots, n\\).\n",
    "\n"
   ]
  },
  {
   "cell_type": "code",
   "execution_count": 28,
   "metadata": {},
   "outputs": [
    {
     "data": {
      "image/png": "[encoded data removed]",
      "text/plain": [
       "<Figure size 800x500 with 1 Axes>"
      ]
     },
     "metadata": {},
     "output_type": "display_data"
    }
   ],
   "source": [
    "# Python code\n",
    "import math\n",
    "import matplotlib.pyplot as plt\n",
    "\n",
    "def plot_binomial_distribution(n=20, p=0.6):\n",
    "    # Generate x values from 0 to n\n",
    "    x_values = range(n+1)\n",
    "    \n",
    "    # Compute the PMF for each x\n",
    "    pmf_values = []\n",
    "    for k in x_values:\n",
    "        ways = math.comb(n, k)  # Combination C(n, k)\n",
    "        pmf = ways * (p**k) * ((1 - p)**(n - k))\n",
    "        pmf_values.append(pmf)\n",
    "\n",
    "    # Plot\n",
    "    plt.figure(figsize=(8, 5))\n",
    "    plt.bar(x_values, pmf_values, color='skyblue', edgecolor='black')\n",
    "    plt.xlabel('Number of Apples (k)')\n",
    "    plt.ylabel('Probability')\n",
    "    plt.title(f'Binomial Distribution (n={n}, p={p})')\n",
    "    plt.xticks(x_values)  # Mark every integer from 0..n on x-axis\n",
    "    plt.grid(axis='y', linestyle='--', alpha=0.7)\n",
    "    plt.show()\n",
    "\n",
    "if __name__ == '__main__':\n",
    "    plot_binomial_distribution(n=20, p=0.6)"
   ]
  },
  {
   "cell_type": "markdown",
   "metadata": {},
   "source": [
    "## Poisson Distribution\n",
    "\n",
    "In this challenge you are required to use the Math library in python to solve the problems.\n",
    "\n",
    "In the UEFA champions league tournament, the average number of goals scored in a match is 2.3. \n",
    "\n",
    "**What is the probability that the number of goals scored in a match is 5?**\n",
    "\n",
    "*Hint: Use the exp() in the math library*\n",
    "\n",
    "And to calculate the factorial, you can use the following code:\n",
    "\n",
    "```python\n",
    "import math\n",
    "math.factorial(n) # n is the number you want to find the factorial of\n",
    "```"
   ]
  },
  {
   "cell_type": "markdown",
   "metadata": {},
   "source": [
    "**Draw a poisson probability distribution plot for the number of goals to be between 0 to 10.**"
   ]
  },
  {
   "cell_type": "markdown",
   "metadata": {},
   "source": [
    "# The **Poisson probability mass function (PMF)** is given by:\n",
    "\n",
    "\\[\n",
    "P(X = k) = \\frac{\\lambda^k e^{-\\lambda}}{k!}\n",
    "\\]\n",
    "\n",
    "Where:\n",
    "- \\( k \\) is the number of goals (in this case, \\(k = 5\\)),\n",
    "- \\( \\lambda = 2.3 \\) is the average number of goals (mean),\n",
    "- \\( e \\) is Euler's number (approximately \\(2.71828\\)).\n",
    "\n",
    "---\n",
    "\n",
    "## Steps:\n",
    "1. Use the **math.exp()** function to compute \\(e^{-\\lambda}\\).\n",
    "2. Calculate the Poisson probability for exactly 5 goals.\n",
    "\n",
    "---"
   ]
  },
  {
   "cell_type": "code",
   "execution_count": 35,
   "metadata": {},
   "outputs": [
    {
     "name": "stdout",
     "output_type": "stream",
     "text": [
      "The probability of scoring exactly 5 goals is: 0.0538\n"
     ]
    }
   ],
   "source": [
    "# Python Code\n",
    "\n",
    "import math\n",
    "\n",
    "def poisson_probability(k, lambd):\n",
    "    # Poisson PMF: P(X = k) = (lambda^k * e^(-lambda)) / k!\n",
    "    probability = (lambd**k * math.exp(-lambd)) / math.factorial(k)\n",
    "    return probability\n",
    "\n",
    "# Given data\n",
    "lambd = 2.3  # Average number of goals\n",
    "k = 5        # Number of goals to calculate probability for\n",
    "\n",
    "# Calculate probability\n",
    "prob = poisson_probability(k, lambd)\n",
    "print(f\"The probability of scoring exactly {k} goals is: {prob:.4f}\")"
   ]
  }
 ],
 "metadata": {
  "kernelspec": {
   "display_name": "Python 3 (ipykernel)",
   "language": "python",
   "name": "python3"
  },
  "language_info": {
   "codemirror_mode": {
    "name": "ipython",
    "version": 3
   },
   "file_extension": ".py",
   "mimetype": "text/x-python",
   "name": "python",
   "nbconvert_exporter": "python",
   "pygments_lexer": "ipython3",
   "version": "3.12.7"
  },
  "vscode": {
   "interpreter": {
    "hash": "aee8b7b246df8f9039afb4144a1f6fd8d2ca17a180786b69acc140d282b71a49"
   }
  }
 },
 "nbformat": 4,
 "nbformat_minor": 4
}
