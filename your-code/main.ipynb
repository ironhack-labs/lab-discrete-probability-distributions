{
 "cells": [
  {
   "cell_type": "markdown",
   "metadata": {},
   "source": [
    "# Before your start:\n",
    "\n",
    "    Read the README.md file\n",
    "    Comment as much as you can and use the resources (README.md file)\n",
    "    Happy learning!\n",
    "\n",
    "*Notes:* \n",
    "\n",
    "- Solve the questions with python.\n",
    "\n",
    "- Round the final answer to three decimal places."
   ]
  },
  {
   "cell_type": "code",
   "execution_count": 52,
   "metadata": {},
   "outputs": [],
   "source": [
    "from scipy import stats\n",
    "import numpy as np\n",
    "import matplotlib.pyplot as plt\n",
    "import math"
   ]
  },
  {
   "cell_type": "markdown",
   "metadata": {},
   "source": [
    "## Bernoulli's Distribution\n",
    "\n",
    "In a basket containing 100 fruits, there are 60 apples and 40 oranges. \n",
    "\n",
    "A fruit is picked randomly from the basket. \n",
    "\n",
    "1. **What is the probability that the fruit is apple?**\n",
    "1. **What is the probability that it is an orange?**"
   ]
  },
  {
   "cell_type": "code",
   "execution_count": 54,
   "metadata": {},
   "outputs": [],
   "source": [
    "\"\"\"\n",
    "Calculate:\n",
    "p = probability that the fruit is an apple \n",
    "q = probability that the fruit is an orange\n",
    "\"\"\"\n",
    "\n",
    "p = 60/(60+40)\n",
    "q = 40/(60+40)"
   ]
  },
  {
   "cell_type": "markdown",
   "metadata": {},
   "source": [
    "Now we take a random sample of 20 fruits from the basket. After each fruit is taken, a new fruit of the same type is replaced in the basket. Therefore, every time we are taking 1 fruit from 100 fruits. \n",
    "\n",
    "1. **What is the probability that the first 5 fruits are all apples?**\n",
    "\n",
    "1. **What is the probability that the first 5 fruits are all apples and the next 15 fruits are all oranges?**\n",
    "\n",
    "You can include the `p` and `q` probabilities you previous calculated in your solution."
   ]
  },
  {
   "cell_type": "code",
   "execution_count": 56,
   "metadata": {},
   "outputs": [
    {
     "name": "stdout",
     "output_type": "stream",
     "text": [
      "0.07775999999999998\n",
      "8.349416423424006e-08\n"
     ]
    }
   ],
   "source": [
    "# 1. What is the probability that the first 5 fruits are all apples?\n",
    "p1 = p**5\n",
    "print(p1)\n",
    "\n",
    "# 2. What is the probability that the first 5 fruits are all apples and the next 15 fruits are all oranges?\n",
    "p2 = p1*(q**15)\n",
    "print(p2)"
   ]
  },
  {
   "cell_type": "markdown",
   "metadata": {},
   "source": [
    "## Binomial Distribution\n",
    "\n",
    "Similar to the above problem, this time again we randomly sample 20 fruits.\n",
    "\n",
    "**What is the probability that this time the sample contains 5 apples and 15 oranges?**\n",
    "\n",
    "Please note that this time the order of the fruits being picked does not matter."
   ]
  },
  {
   "cell_type": "code",
   "execution_count": 58,
   "metadata": {},
   "outputs": [
    {
     "ename": "NameError",
     "evalue": "name 'k_5' is not defined",
     "output_type": "error",
     "traceback": [
      "\u001b[0;31m---------------------------------------------------------------------------\u001b[0m",
      "\u001b[0;31mNameError\u001b[0m                                 Traceback (most recent call last)",
      "Cell \u001b[0;32mIn[58], line 15\u001b[0m\n\u001b[1;32m      9\u001b[0m p\n\u001b[1;32m     11\u001b[0m \u001b[38;5;66;03m## Binomial coeficient\u001b[39;00m\n\u001b[1;32m     12\u001b[0m \u001b[38;5;66;03m#bq=math.factorial(n)/((math.factorial(k_a))*math.factorial(n-k_a))\u001b[39;00m\n\u001b[1;32m     13\u001b[0m \n\u001b[1;32m     14\u001b[0m \u001b[38;5;66;03m## Probability of getting 5 apples\u001b[39;00m\n\u001b[0;32m---> 15\u001b[0m p_5 \u001b[38;5;241m=\u001b[39m math\u001b[38;5;241m.\u001b[39mcomb(n,k_a)\u001b[38;5;241m*\u001b[39m(p\u001b[38;5;241m*\u001b[39m\u001b[38;5;241m*\u001b[39mk_a)\u001b[38;5;241m*\u001b[39m((\u001b[38;5;241m1\u001b[39m\u001b[38;5;241m-\u001b[39mp)\u001b[38;5;241m*\u001b[39m\u001b[38;5;241m*\u001b[39m(n\u001b[38;5;241m-\u001b[39mk_5))\n\u001b[1;32m     16\u001b[0m p_5\n",
      "\u001b[0;31mNameError\u001b[0m: name 'k_5' is not defined"
     ]
    }
   ],
   "source": [
    "# your solution here\n",
    "## Apples\n",
    "## Nr of sucesses :\n",
    "k_a5= 5\n",
    "## Nr. of trials\n",
    "n = 20\n",
    "\n",
    "## Individual probability of success on an individual trial\n",
    "p\n",
    "\n",
    "## Binomial coeficient\n",
    "#bq=math.factorial(n)/((math.factorial(k_a))*math.factorial(n-k_a))\n",
    "\n",
    "## Probability of getting 5 apples\n",
    "p_5 = math.comb(n,k_a)*(p**k_a)*((1-p)**(n-k_5))\n",
    "p_5\n",
    "\n"
   ]
  },
  {
   "cell_type": "code",
   "execution_count": null,
   "metadata": {},
   "outputs": [],
   "source": [
    "# your solution here"
   ]
  },
  {
   "cell_type": "markdown",
   "metadata": {},
   "source": [
    "In the lesson we also discussed CDF (cumulative distribution function). In the context of the above problem, **what is the probability that less than 5 fruits picked are apples?**\n",
    "\n",
    "Write the formula and calculate the probability below."
   ]
  },
  {
   "cell_type": "code",
   "execution_count": null,
   "metadata": {},
   "outputs": [],
   "source": [
    "# Probability of 0 apples\n",
    "k_a0= 0\n",
    "p_0 = math.comb(n,k_a0)*(p**k_a0)*((1-p)**(n-k_a0))\n",
    "print(p_0)\n",
    "\n",
    "k_a1= 1\n",
    "p_1 = math.comb(n,k_a1)*(p**k_a1)*((1-p)**(n-k_a1))\n",
    "print(p_1)\n",
    "\n",
    "k_a2= 2\n",
    "p_2 = math.comb(n,k_a2)*(p**k_a2)*((1-p)**(n-k_a2))\n",
    "print(p_2)\n",
    "\n",
    "k_a3= 3\n",
    "p_3 = math.comb(n,k_a3)*(p**k_a3)*((1-p)**(n-k_a3))\n",
    "print(p_3)\n",
    "\n",
    "k_a4= 4\n",
    "p_4 = math.comb(n,k_a4)*(p**k_a4)*((1-p)**(n-k_a4))\n",
    "print(p_4)\n",
    "\n",
    "p_1 + p_2 + p_3 + p_4 \n"
   ]
  },
  {
   "cell_type": "markdown",
   "metadata": {},
   "source": [
    "**Plot the PDF (probability distributiom function) for the above binomial distribution.**\n",
    "\n",
    "*Hint: The range of x in a binomial distribution is from `0` to `n`.*"
   ]
  },
  {
   "cell_type": "code",
   "execution_count": null,
   "metadata": {},
   "outputs": [],
   "source": [
    "# your code here\n",
    "# Please label the axes and give a title to the plot \n",
    "# Calculate the probability for each k from 0 to n\n",
    "k_values = np.arange(0, n + 1)\n",
    "pdf_values = [(math.comb(n, k) * (p ** k) * ((1 - p) ** (n - k))) for k in k_values]\n",
    "\n",
    "# Plotting the PDF\n",
    "plt.figure(figsize=(10, 6))\n",
    "plt.bar(k_values, pdf_values, color='skyblue', alpha=0.7)\n",
    "plt.title('Binomial Distribution PDF')\n",
    "plt.xlabel('Number of Apples (k)')\n",
    "plt.ylabel('Probability')\n",
    "plt.xticks(k_values)  # Show all k values on x-axis\n",
    "plt.grid(axis='y')\n",
    "\n",
    "# Show the plot\n",
    "plt.show()"
   ]
  },
  {
   "cell_type": "markdown",
   "metadata": {},
   "source": [
    "## Poisson Distribution\n",
    "\n",
    "In this challenge you are required to use the Math library in python to solve the problems.\n",
    "\n",
    "In the UEFA champions league tournament, the average number of goals scored in a match is 2.3. \n",
    "\n",
    "**What is the probability that the number of goals scored in a match is 5?**\n",
    "\n",
    "*Hint: Use the exp() in the math library*\n",
    "\n",
    "And to calculate the factorial, you can use the following code:\n",
    "\n",
    "```python\n",
    "import math\n",
    "math.factorial(n) # n is the number you want to find the factorial of\n",
    "```"
   ]
  },
  {
   "cell_type": "code",
   "execution_count": 67,
   "metadata": {},
   "outputs": [
    {
     "data": {
      "text/plain": [
       "0.05377510877742053"
      ]
     },
     "execution_count": 67,
     "metadata": {},
     "output_type": "execute_result"
    }
   ],
   "source": [
    "# your code here \n",
    "lambda_ = 2.3\n",
    "k=5\n",
    "euler = 2.71828\n",
    "\n",
    "p= ((lambda_**k)*(euler**(-lambda_)))/math.factorial(k)\n",
    "p"
   ]
  },
  {
   "cell_type": "markdown",
   "metadata": {},
   "source": [
    "**Draw a poisson probability distribution plot for the number of goals to be between 0 to 10.**"
   ]
  },
  {
   "cell_type": "code",
   "execution_count": 69,
   "metadata": {},
   "outputs": [
    {
     "data": {
      "image/png": "[encoded data removed]",
      "text/plain": [
       "<Figure size 1000x600 with 1 Axes>"
      ]
     },
     "metadata": {},
     "output_type": "display_data"
    }
   ],
   "source": [
    "# your code here\n",
    "# Please label the axes and give a title to the plot \n",
    "import numpy as np\n",
    "import matplotlib.pyplot as plt\n",
    "from scipy.stats import poisson\n",
    "\n",
    "# Parameters\n",
    "lambda_ = 2.3  # average number of goals\n",
    "\n",
    "# Range of k values (number of events)\n",
    "k = np.arange(0, 10)  # Change the range as needed\n",
    "\n",
    "# Poisson PMF\n",
    "pmf = poisson.pmf(k, lambda_)\n",
    "\n",
    "# Plotting\n",
    "plt.figure(figsize=(10, 6))\n",
    "plt.bar(k, pmf, color='blue', alpha=0.7, label='Poisson PMF')\n",
    "plt.title('Poisson Distribution (λ = 2.3)')\n",
    "plt.xlabel('Number of Goals (k)')\n",
    "plt.ylabel('Probability')\n",
    "plt.xticks(k)\n",
    "plt.grid(axis='y')\n",
    "plt.legend()\n",
    "plt.show()"
   ]
  },
  {
   "cell_type": "code",
   "execution_count": null,
   "metadata": {},
   "outputs": [],
   "source": []
  }
 ],
 "metadata": {
  "kernelspec": {
   "display_name": "Python 3 (ipykernel)",
   "language": "python",
   "name": "python3"
  },
  "language_info": {
   "codemirror_mode": {
    "name": "ipython",
    "version": 3
   },
   "file_extension": ".py",
   "mimetype": "text/x-python",
   "name": "python",
   "nbconvert_exporter": "python",
   "pygments_lexer": "ipython3",
   "version": "3.12.4"
  },
  "vscode": {
   "interpreter": {
    "hash": "aee8b7b246df8f9039afb4144a1f6fd8d2ca17a180786b69acc140d282b71a49"
   }
  }
 },
 "nbformat": 4,
 "nbformat_minor": 4
}
